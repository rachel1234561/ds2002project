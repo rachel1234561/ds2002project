{
 "cells": [
  {
   "cell_type": "code",
   "execution_count": 1,
   "metadata": {
    "colab": {
     "base_uri": "https://localhost:8080/",
     "height": 226
    },
    "id": "KzwH0VLD0PMc",
    "outputId": "c680c2f0-dcee-4b90-f0ce-8cf2ad324900"
   },
   "outputs": [
    {
     "data": {
      "text/html": [
       "<div>\n",
       "<style scoped>\n",
       "    .dataframe tbody tr th:only-of-type {\n",
       "        vertical-align: middle;\n",
       "    }\n",
       "\n",
       "    .dataframe tbody tr th {\n",
       "        vertical-align: top;\n",
       "    }\n",
       "\n",
       "    .dataframe thead th {\n",
       "        text-align: right;\n",
       "    }\n",
       "</style>\n",
       "<table border=\"1\" class=\"dataframe\">\n",
       "  <thead>\n",
       "    <tr style=\"text-align: right;\">\n",
       "      <th></th>\n",
       "      <th>State</th>\n",
       "      <th>MedianEarnings</th>\n",
       "      <th>Less_than_highschool</th>\n",
       "      <th>Highschool</th>\n",
       "      <th>Some_college_Associates</th>\n",
       "      <th>Bachelors</th>\n",
       "      <th>Graduates_Professional</th>\n",
       "    </tr>\n",
       "  </thead>\n",
       "  <tbody>\n",
       "    <tr>\n",
       "      <th>0</th>\n",
       "      <td>Alabama</td>\n",
       "      <td>43016</td>\n",
       "      <td>27789</td>\n",
       "      <td>34470</td>\n",
       "      <td>39855</td>\n",
       "      <td>57347</td>\n",
       "      <td>71030</td>\n",
       "    </tr>\n",
       "    <tr>\n",
       "      <th>1</th>\n",
       "      <td>Alaska</td>\n",
       "      <td>54606</td>\n",
       "      <td>30804</td>\n",
       "      <td>41338</td>\n",
       "      <td>52261</td>\n",
       "      <td>66719</td>\n",
       "      <td>87052</td>\n",
       "    </tr>\n",
       "    <tr>\n",
       "      <th>2</th>\n",
       "      <td>Arizona</td>\n",
       "      <td>46574</td>\n",
       "      <td>30398</td>\n",
       "      <td>36792</td>\n",
       "      <td>43812</td>\n",
       "      <td>61392</td>\n",
       "      <td>78782</td>\n",
       "    </tr>\n",
       "    <tr>\n",
       "      <th>3</th>\n",
       "      <td>Arkansas</td>\n",
       "      <td>41013</td>\n",
       "      <td>29018</td>\n",
       "      <td>34070</td>\n",
       "      <td>38116</td>\n",
       "      <td>54457</td>\n",
       "      <td>70376</td>\n",
       "    </tr>\n",
       "    <tr>\n",
       "      <th>4</th>\n",
       "      <td>California</td>\n",
       "      <td>51947</td>\n",
       "      <td>29750</td>\n",
       "      <td>38446</td>\n",
       "      <td>46575</td>\n",
       "      <td>75306</td>\n",
       "      <td>105279</td>\n",
       "    </tr>\n",
       "  </tbody>\n",
       "</table>\n",
       "</div>"
      ],
      "text/plain": [
       "        State  MedianEarnings  Less_than_highschool  Highschool  \\\n",
       "0     Alabama           43016                 27789       34470   \n",
       "1      Alaska           54606                 30804       41338   \n",
       "2     Arizona           46574                 30398       36792   \n",
       "3    Arkansas           41013                 29018       34070   \n",
       "4  California           51947                 29750       38446   \n",
       "\n",
       "   Some_college_Associates  Bachelors  Graduates_Professional  \n",
       "0                    39855      57347                   71030  \n",
       "1                    52261      66719                   87052  \n",
       "2                    43812      61392                   78782  \n",
       "3                    38116      54457                   70376  \n",
       "4                    46575      75306                  105279  "
      ]
     },
     "execution_count": 1,
     "metadata": {},
     "output_type": "execute_result"
    }
   ],
   "source": [
    "import pandas as pd\n",
    "states = pd.read_csv(\"state_earnings.csv\")\n",
    "states.columns\n",
    "earnings=states.rename(columns={'SE_A15001_001':'MedianEarnings',\"SE_A15001_002\":\"Less_than_highschool\",\"SE_A15001_003\":\"Highschool\",\"SE_A15001_004\":\"Some_college_Associates\",\"SE_A15001_005\":\"Bachelors\",\"SE_A15001_006\":\"Graduates_Professional\",\"Geo_QName\":\"State\"})\n",
    "earnings = earnings[['State','MedianEarnings','Less_than_highschool','Highschool','Some_college_Associates','Bachelors','Graduates_Professional']]\n",
    "earnings.head()"
   ]
  },
  {
   "cell_type": "code",
   "execution_count": 33,
   "metadata": {
    "id": "UgjitARP7l7H"
   },
   "outputs": [],
   "source": [
    "earnings.to_csv('state_earnings.csv', index=False)"
   ]
  },
  {
   "cell_type": "code",
   "execution_count": 6,
   "metadata": {},
   "outputs": [],
   "source": [
    "#Load to MongoDB\n",
    "from pymongo import MongoClient\n",
    "import json\n",
    "\n",
    "client=MongoClient(\"mongodb+srv://<user>:<db_password>@cluster1.xvd5b.mongodb.net/?retryWrites=true&w=majority&appName=Cluster1\")\n",
    "db=client[\"DS2002\"]\n",
    "coll=db[\"state_data\"]\n",
    "data2 = json.loads(earnings.to_json(orient='records'))\n",
    "if \"state_data\" not in db.list_collection_names():\n",
    "    coll.insert_many(data2)"
   ]
  },
  {
   "cell_type": "code",
   "execution_count": 8,
   "metadata": {},
   "outputs": [
    {
     "name": "stdout",
     "output_type": "stream",
     "text": [
      "['state_data']\n"
     ]
    }
   ],
   "source": [
    "#Check data has been added\n",
    "print(db.list_collection_names())\n",
    "client.close()"
   ]
  }
 ],
 "metadata": {
  "colab": {
   "provenance": []
  },
  "kernelspec": {
   "display_name": "Python 3 (ipykernel)",
   "language": "python",
   "name": "python3"
  },
  "language_info": {
   "codemirror_mode": {
    "name": "ipython",
    "version": 3
   },
   "file_extension": ".py",
   "mimetype": "text/x-python",
   "name": "python",
   "nbconvert_exporter": "python",
   "pygments_lexer": "ipython3",
   "version": "3.12.4"
  }
 },
 "nbformat": 4,
 "nbformat_minor": 4
}
