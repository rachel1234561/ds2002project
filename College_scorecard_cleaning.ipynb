{
  "nbformat": 4,
  "nbformat_minor": 0,
  "metadata": {
    "colab": {
      "provenance": [],
      "include_colab_link": true
    },
    "kernelspec": {
      "name": "python3",
      "display_name": "Python 3"
    },
    "language_info": {
      "name": "python"
    }
  },
  "cells": [
    {
      "cell_type": "markdown",
      "metadata": {
        "id": "view-in-github",
        "colab_type": "text"
      },
      "source": [
        "<a href=\"https://colab.research.google.com/github/rachel1234561/ds2002project/blob/main/College_scorecard_cleaning.ipynb\" target=\"_parent\"><img src=\"https://colab.research.google.com/assets/colab-badge.svg\" alt=\"Open In Colab\"/></a>"
      ]
    },
    {
      "cell_type": "markdown",
      "source": [
        "Cleaning college scorecard data"
      ],
      "metadata": {
        "id": "UzFbtAa6xGxb"
      }
    },
    {
      "cell_type": "code",
      "execution_count": 13,
      "metadata": {
        "colab": {
          "base_uri": "https://localhost:8080/"
        },
        "id": "K8EJCEv5Bacb",
        "outputId": "ad809245-3e4e-474f-edb3-9d744e624b2c",
        "collapsed": true
      },
      "outputs": [
        {
          "output_type": "stream",
          "name": "stdout",
          "text": [
            "Drive already mounted at /content/drive; to attempt to forcibly remount, call drive.mount(\"/content/drive\", force_remount=True).\n"
          ]
        },
        {
          "output_type": "stream",
          "name": "stderr",
          "text": [
            "<ipython-input-13-0d3d3e0537bf>:7: DtypeWarning: Columns (9,1537,1540,1542,1606,1608,1614,1615,1619,1620,1621,1622,1623,1624,1625,1626,1627,1628,1629,1690,1692,1697,1700,1725,1726,1727,1728,1729,1743,1815,1816,1817,1818,1823,1824,1830,1831,1879,1880,1881,1882,1883,1884,1885,1886,1887,1888,1889,1890,1891,1892,1893,1894,1895,1896,1897,1898,1909,1910,1911,1912,1913,1957,1958,1959,1960,1961,1962,1963,1964,1965,1966,1967,1968,1969,1970,1971,1972,1973,1974,1975,1976,1983,1984,2376,2377,2403,2404,2495,2496,2497,2498,2499,2500,2501,2502,2503,2504,2505,2506,2507,2508,2509,2510,2511,2512,2513,2514,2515,2516,2517,2518,2519,2520,2521,2522,2523,2524,2525,2526,2527,2528,2529,2530,2958,3215,3231,3235,3236) have mixed types. Specify dtype option on import or set low_memory=False.\n",
            "  df = pd.read_csv('/content/drive/MyDrive/data/Most-Recent-Cohorts-Institution.csv')\n"
          ]
        },
        {
          "output_type": "stream",
          "name": "stdout",
          "text": [
            "   UNITID      OPEID   OPEID6                               INSTNM  \\\n",
            "0  100654   100200.0   1002.0             Alabama A & M University   \n",
            "1  100663   105200.0   1052.0  University of Alabama at Birmingham   \n",
            "2  100690  2503400.0  25034.0                   Amridge University   \n",
            "3  100706   105500.0   1055.0  University of Alabama in Huntsville   \n",
            "4  100724   100500.0   1005.0             Alabama State University   \n",
            "\n",
            "         CITY STABBR         ZIP  \\\n",
            "0      Normal     AL       35762   \n",
            "1  Birmingham     AL  35294-0110   \n",
            "2  Montgomery     AL  36117-3553   \n",
            "3  Huntsville     AL       35899   \n",
            "4  Montgomery     AL  36104-0271   \n",
            "\n",
            "                                        ACCREDAGENCY  \\\n",
            "0  Southern Association of Colleges and Schools C...   \n",
            "1  Southern Association of Colleges and Schools C...   \n",
            "2  Southern Association of Colleges and Schools C...   \n",
            "3  Southern Association of Colleges and Schools C...   \n",
            "4  Southern Association of Colleges and Schools C...   \n",
            "\n",
            "                              INSTURL  \\\n",
            "0                       www.aamu.edu/   \n",
            "1                https://www.uab.edu/   \n",
            "2  https://www.amridgeuniversity.edu/   \n",
            "3                        www.uah.edu/   \n",
            "4                      www.alasu.edu/   \n",
            "\n",
            "                                              NPCURL  ...  \\\n",
            "0  www.aamu.edu/admissions-aid/tuition-fees/net-p...  ...   \n",
            "1  https://tcc.ruffalonl.com/University of Alabam...  ...   \n",
            "2           https://www2.amridgeuniversity.edu:9091/  ...   \n",
            "3                                    finaid.uah.edu/  ...   \n",
            "4  www.alasu.edu/cost-aid/tuition-costs/net-price...  ...   \n",
            "\n",
            "   COUNT_WNE_MALE0_P11  COUNT_WNE_MALE1_P11  GT_THRESHOLD_P11  \\\n",
            "0                800.0                777.0            0.6250   \n",
            "1               1811.0               1157.0            0.7588   \n",
            "2                 75.0                 67.0            0.5986   \n",
            "3                810.0                802.0            0.7810   \n",
            "4               1224.0               1049.0            0.5378   \n",
            "\n",
            "   MD_EARN_WNE_INC1_P11  MD_EARN_WNE_INC2_P11  MD_EARN_WNE_INC3_P11  \\\n",
            "0               36650.0               41070.0               47016.0   \n",
            "1               47182.0               51896.0               54368.0   \n",
            "2               35752.0               41007.0                   NaN   \n",
            "3               51208.0               62219.0               62577.0   \n",
            "4               32844.0               36932.0               37966.0   \n",
            "\n",
            "   MD_EARN_WNE_INDEP0_P11  MD_EARN_WNE_INDEP1_P11  MD_EARN_WNE_MALE0_P11  \\\n",
            "0                 38892.0                 41738.0                38167.0   \n",
            "1                 50488.0                 51505.0                46559.0   \n",
            "2                     NaN                 38467.0                32654.0   \n",
            "3                 55920.0                 60221.0                47787.0   \n",
            "4                 34294.0                 31797.0                32303.0   \n",
            "\n",
            "   MD_EARN_WNE_MALE1_P11  \n",
            "0                40250.0  \n",
            "1                59181.0  \n",
            "2                49435.0  \n",
            "3                67454.0  \n",
            "4                36964.0  \n",
            "\n",
            "[5 rows x 3305 columns]\n"
          ]
        }
      ],
      "source": [
        "# I used ai to open a csv file from google drive from my data folder\n",
        "\n",
        "from google.colab import drive\n",
        "drive.mount('/content/drive')\n",
        "\n",
        "import pandas as pd\n",
        "df = pd.read_csv('/content/drive/MyDrive/data/Most-Recent-Cohorts-Institution.csv')\n",
        "\n",
        "print(df.head())\n"
      ]
    },
    {
      "cell_type": "code",
      "source": [
        "#the original data is too big to put on git so I added relevant colunms to a new df (we can always go back and add other ones later)\n",
        "\n",
        "#ADM_RATE - Acceptance Rate\n",
        "#PPTUG_EF - Share of undergraduate, degree-/certificate-seeking students who are part-time\n",
        "#GRAD_DEBT_MDN_SUPP - Median Total Debt After Graduation for Loans Taken Out at This School\n",
        "#PREDDEG - type of degree most frequetly offered\n",
        "#PCTPELL_DCS_POOLED_SUPP - The percentage of degree/certificate-seeking undergraduate students that receive a federal Pell Grant provides an indication of the level of socio-economic diversity\n",
        "#STUFACR - Student/Faculty Ratio\n",
        "#PCTFLOAN_DCS_POOLED_SUPP - The proportion of degree/certificate-seeking undergraduate students that borrowed through federal loan programs to help pay college costs.\n",
        "#UNITID - school ID\n",
        "#INSTNM - school name\n",
        "#ZIP\n",
        "#STABBR - state\n",
        "#C150_4 - completion rate (w/in 1.5* expected completion)\n",
        "#COSTT4_A - yearly cost of attendance\n",
        "#UG - Enrollment of all undergraduate & degree seaking students\n",
        "#MD_EARN_WNE_4YR - Median earnings of graduates working and not enrolled 4 years after completing\n",
        "#CONTROL_PEPS - public vs private\n",
        "#REGION\n",
        "#ACTCMMID - midpoint act score\n",
        "#FEMALE - percent of female students\n",
        "#FAMINC - average family income"
      ],
      "metadata": {
        "id": "7XwR1qUWD24D"
      },
      "execution_count": null,
      "outputs": []
    },
    {
      "cell_type": "code",
      "source": [
        "new_df = df[['UNITID', 'INSTNM', 'ZIP', 'CITY', 'STABBR', 'ADM_RATE', 'PPTUG_EF', 'GRAD_DEBT_MDN_SUPP', 'PREDDEG', 'PCTPELL_DCS_POOLED_SUPP', 'STUFACR', 'PCTFLOAN_DCS_POOLED_SUPP', 'C150_4', 'COSTT4_A', 'UGDS', 'MD_EARN_WNE_4YR', 'CONTROL_PEPS', 'REGION', 'ACTCMMID', 'FEMALE', 'FAMINC']]\n",
        "print(new_df.head())"
      ],
      "metadata": {
        "colab": {
          "base_uri": "https://localhost:8080/"
        },
        "id": "7iVbCabLa1M_",
        "outputId": "7c071ed9-3bc2-4b94-bb34-ed37411fbea8"
      },
      "execution_count": 11,
      "outputs": [
        {
          "output_type": "stream",
          "name": "stdout",
          "text": [
            "   UNITID                               INSTNM         ZIP        CITY STABBR  \\\n",
            "0  100654             Alabama A & M University       35762      Normal     AL   \n",
            "1  100663  University of Alabama at Birmingham  35294-0110  Birmingham     AL   \n",
            "2  100690                   Amridge University  36117-3553  Montgomery     AL   \n",
            "3  100706  University of Alabama in Huntsville       35899  Huntsville     AL   \n",
            "4  100724             Alabama State University  36104-0271  Montgomery     AL   \n",
            "\n",
            "   ADM_RATE  PPTUG_EF GRAD_DEBT_MDN_SUPP  PREDDEG PCTPELL_DCS_POOLED_SUPP  \\\n",
            "0    0.6840    0.0778              31000        3                  0.6553   \n",
            "1    0.8668    0.1986              22300        3                  0.3374   \n",
            "2       NaN    0.4342              32189        3                  0.7769   \n",
            "3    0.7810    0.1612              20705        3                  0.2235   \n",
            "4    0.9660    0.0771              31000        3                  0.6984   \n",
            "\n",
            "   ...  PCTFLOAN_DCS_POOLED_SUPP  C150_4  COSTT4_A     UGDS  MD_EARN_WNE_4YR  \\\n",
            "0  ...                    0.5365  0.2678   23167.0   5196.0          46562.0   \n",
            "1  ...                    0.4214  0.6442   26257.0  12776.0          52404.0   \n",
            "2  ...                    0.5896  0.5000       NaN    228.0          45765.0   \n",
            "3  ...                    0.3511  0.6295   25777.0   6985.0          67695.0   \n",
            "4  ...                     0.768  0.2773   21900.0   3296.0          37551.0   \n",
            "\n",
            "        CONTROL_PEPS REGION  ACTCMMID        FEMALE        FAMINC  \n",
            "0             Public      5      18.0  0.5640301318  32362.826114  \n",
            "1             Public      5      27.0  0.6390907397  51306.674306  \n",
            "2  Private Nonprofit      5       NaN  0.6486486486  21079.472973  \n",
            "3             Public      5      28.0  0.4763499372  61096.588949  \n",
            "4             Public      5      18.0  0.6134185304  31684.382188  \n",
            "\n",
            "[5 rows x 21 columns]\n"
          ]
        }
      ]
    },
    {
      "cell_type": "code",
      "source": [
        "#rename columns\n",
        "new_df.columns =['id',\n",
        " 'name',\n",
        " 'zip',\n",
        " 'city',\n",
        " 'state',\n",
        " 'acceptance_rate',\n",
        " 'part_time',\n",
        " 'debt','deg_type',\n",
        " 'pell_grant',\n",
        " 'stud_fac_ratio',\n",
        " 'percent_loans',\n",
        " 'graduation_rate',\n",
        " 'yearly_cost',\n",
        " 'student_pop',\n",
        " 'earnings',\n",
        " 'school_type',\n",
        " 'region',\n",
        " 'average_act',\n",
        " 'precent_female',\n",
        " 'average_income']"
      ],
      "metadata": {
        "id": "lgs42j-E-s0q"
      },
      "execution_count": 12,
      "outputs": []
    },
    {
      "cell_type": "code",
      "source": [
        "#filter to include schools that primarily offer undergraduate degrees\n",
        "coll_data = new_df[new_df['deg_type'] == 3]\n",
        "print(coll_data.head())"
      ],
      "metadata": {
        "colab": {
          "base_uri": "https://localhost:8080/"
        },
        "id": "yXqqmsdB3ZN7",
        "outputId": "fe58b7b1-d0ff-4305-8314-8d2d3b7c7929"
      },
      "execution_count": 14,
      "outputs": [
        {
          "output_type": "stream",
          "name": "stdout",
          "text": [
            "       id                                 name         zip        city state  \\\n",
            "0  100654             Alabama A & M University       35762      Normal    AL   \n",
            "1  100663  University of Alabama at Birmingham  35294-0110  Birmingham    AL   \n",
            "2  100690                   Amridge University  36117-3553  Montgomery    AL   \n",
            "3  100706  University of Alabama in Huntsville       35899  Huntsville    AL   \n",
            "4  100724             Alabama State University  36104-0271  Montgomery    AL   \n",
            "\n",
            "   acceptance_rate  part_time   debt  deg_type pell_grant  ...  percent_loans  \\\n",
            "0           0.6840     0.0778  31000         3     0.6553  ...         0.5365   \n",
            "1           0.8668     0.1986  22300         3     0.3374  ...         0.4214   \n",
            "2              NaN     0.4342  32189         3     0.7769  ...         0.5896   \n",
            "3           0.7810     0.1612  20705         3     0.2235  ...         0.3511   \n",
            "4           0.9660     0.0771  31000         3     0.6984  ...          0.768   \n",
            "\n",
            "  graduation_rate  yearly_cost  student_pop  earnings        school_type  \\\n",
            "0          0.2678      23167.0       5196.0   46562.0             Public   \n",
            "1          0.6442      26257.0      12776.0   52404.0             Public   \n",
            "2          0.5000          NaN        228.0   45765.0  Private Nonprofit   \n",
            "3          0.6295      25777.0       6985.0   67695.0             Public   \n",
            "4          0.2773      21900.0       3296.0   37551.0             Public   \n",
            "\n",
            "  region  average_act  precent_female average_income  \n",
            "0      5         18.0    0.5640301318   32362.826114  \n",
            "1      5         27.0    0.6390907397   51306.674306  \n",
            "2      5          NaN    0.6486486486   21079.472973  \n",
            "3      5         28.0    0.4763499372   61096.588949  \n",
            "4      5         18.0    0.6134185304   31684.382188  \n",
            "\n",
            "[5 rows x 21 columns]\n"
          ]
        }
      ]
    },
    {
      "cell_type": "code",
      "source": [
        "# make csv\n",
        "coll_data.to_csv('college_data_clean.csv', index=False)"
      ],
      "metadata": {
        "id": "zHWXwWE23wPH"
      },
      "execution_count": null,
      "outputs": []
    },
    {
      "cell_type": "code",
      "source": [
        "#Load to MongoDB\n",
        "from pymongo import MongoClient\n",
        "import json\n",
        "\n",
        "client=MongoClient(\"mongodb+srv://<user>:<db_password>@cluster1.xvd5b.mongodb.net/?retryWrites=true&w=majority&appName=Cluster1\")\n",
        "db=client[\"DS2002\"]\n",
        "coll=db[\"college_data\"]\n",
        "data2 = json.loads(coll_data.to_json(orient='records'))\n",
        "if \"college_data\" not in db.list_collection_names():\n",
        "    coll.insert_many(data2)"
      ],
      "metadata": {
        "id": "bytdPUWJ9CpS"
      },
      "execution_count": 19,
      "outputs": []
    },
    {
      "cell_type": "code",
      "source": [
        "#Check that data has been added\n",
        "print(db.list_collection_names())\n",
        "client.close()"
      ],
      "metadata": {
        "id": "oAGMbt84_M_-",
        "outputId": "62940c47-4529-4364-b7fa-2572a1f9aa29",
        "colab": {
          "base_uri": "https://localhost:8080/"
        }
      },
      "execution_count": 22,
      "outputs": [
        {
          "output_type": "stream",
          "name": "stdout",
          "text": [
            "['college_data', 'state_data']\n"
          ]
        }
      ]
    }
  ]
}
